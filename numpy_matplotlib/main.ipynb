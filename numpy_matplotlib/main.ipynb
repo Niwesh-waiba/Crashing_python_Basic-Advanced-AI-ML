{
 "cells": [
  {
   "cell_type": "markdown",
   "metadata": {},
   "source": [
    "<h1 align='center'> Numpy and pandas Understanding </h1>\n",
    "\n",
    "<hr>\n",
    "This notebook is about Numpy and Pandas\n",
    "\n",
    "<img src ='https://d29g4g2dyqv443.cloudfront.net/sites/default/files/akamai/cuda/images/KeyVisual_Primary_verysm.PNG'>"
   ]
  },
  {
   "cell_type": "code",
   "execution_count": 10,
   "metadata": {},
   "outputs": [
    {
     "name": "stdout",
     "output_type": "stream",
     "text": [
      "niwesh\n",
      "niwesh wlaiknkjbad\n"
     ]
    }
   ],
   "source": [
    "print('niwesh')\n",
    "print(\"niwesh wlaiknkjbad\")\n",
    "\n",
    "# nierxy"
   ]
  },
  {
   "cell_type": "code",
   "execution_count": 13,
   "metadata": {},
   "outputs": [],
   "source": [
    "list_of_numbers=[1,2,3,4,5]\n",
    "\n",
    "#try to calculate the sum of list using sum=0 and looping over the list"
   ]
  },
  {
   "cell_type": "code",
   "execution_count": 16,
   "metadata": {},
   "outputs": [
    {
     "name": "stdout",
     "output_type": "stream",
     "text": [
      "15\n"
     ]
    }
   ],
   "source": [
    "\n",
    "summ=0\n",
    "for i in list_of_numbers:\n",
    "    summ+=i\n",
    "\n",
    "print(summ)"
   ]
  },
  {
   "cell_type": "code",
   "execution_count": 12,
   "metadata": {},
   "outputs": [
    {
     "name": "stdout",
     "output_type": "stream",
     "text": [
      "15\n"
     ]
    }
   ],
   "source": [
    "#try to calculate the sum of list using predefined function sum \n",
    "print(sum(list_of_numbers))"
   ]
  },
  {
   "cell_type": "markdown",
   "metadata": {},
   "source": [
    "understanding Numpy\n",
    "\n",
    "installing Numpy from jupyter notebook"
   ]
  },
  {
   "cell_type": "code",
   "execution_count": 17,
   "metadata": {},
   "outputs": [
    {
     "name": "stdout",
     "output_type": "stream",
     "text": [
      "Defaulting to user installation because normal site-packages is not writeable\n",
      "Requirement already satisfied: numpy in d:\\users\\newac\\appdata\\local\\packages\\pythonsoftwarefoundation.python.3.12_qbz5n2kfra8p0\\localcache\\local-packages\\python312\\site-packages (1.26.4)\n"
     ]
    }
   ],
   "source": [
    "#to provide cmd commands type '!' before the commands\n",
    "!pip install numpy"
   ]
  },
  {
   "cell_type": "markdown",
   "metadata": {},
   "source": [
    "basics of numpy"
   ]
  },
  {
   "cell_type": "code",
   "execution_count": 19,
   "metadata": {},
   "outputs": [
    {
     "name": "stdout",
     "output_type": "stream",
     "text": [
      "[1 2 3 4 5] <class 'numpy.ndarray'>\n",
      "[1, 2, 3, 4, 5] <class 'list'>\n"
     ]
    }
   ],
   "source": [
    "import numpy as np\n",
    "\n",
    "array_of_numbers=np.array([1,2,3,4,5])\n",
    "print(array_of_numbers,type(array_of_numbers))\n",
    "print([1,2,3,4,5],type([1,2,3,4,5]))\n",
    "\n",
    "\n",
    "#mathematical equations on an array\n",
    "print(array_of_numbers.sum())\n",
    "print(array_of_numbers.mean())\n",
    "print(array_of_numbers.std())\n",
    "print(array_of_numbers.max())\n",
    "print(array_of_numbers.min())\n",
    "\n",
    "\n"
   ]
  }
 ],
 "metadata": {
  "kernelspec": {
   "display_name": "Python 3",
   "language": "python",
   "name": "python3"
  },
  "language_info": {
   "codemirror_mode": {
    "name": "ipython",
    "version": 3
   },
   "file_extension": ".py",
   "mimetype": "text/x-python",
   "name": "python",
   "nbconvert_exporter": "python",
   "pygments_lexer": "ipython3",
   "version": "3.12.5"
  }
 },
 "nbformat": 4,
 "nbformat_minor": 2
}
